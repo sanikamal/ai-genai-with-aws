{
 "cells": [
  {
   "cell_type": "markdown",
   "id": "cc6b7b9f-a75d-4b78-930f-26d2343ac2c2",
   "metadata": {},
   "source": [
    "# Enable Logging for LLM Calls📜\n",
    "\n",
    "Ensure security, audit, and compliance by enabling logging for all calls made to **LLMs**. Keep track of every interaction and maintain a transparent record for auditing purposes.🔒"
   ]
  },
  {
   "cell_type": "markdown",
   "id": "06fc5839-0b4b-42a3-9aaf-99a97e347955",
   "metadata": {},
   "source": [
    "### Import all needed packages"
   ]
  },
  {
   "cell_type": "code",
   "execution_count": 1,
   "id": "63cf31e4",
   "metadata": {
    "height": 98
   },
   "outputs": [],
   "source": [
    "import boto3\n",
    "import json\n",
    "import os\n",
    "\n",
    "bedrock = boto3.client('bedrock', region_name=\"us-west-2\")"
   ]
  },
  {
   "cell_type": "code",
   "execution_count": 2,
   "id": "e5d9e31b",
   "metadata": {
    "height": 1050
   },
   "outputs": [],
   "source": [
    "import boto3\n",
    "import json\n",
    "import os\n",
    "import datetime\n",
    "from botocore.exceptions import ClientError\n",
    "\n",
    "\n",
    "class CloudWatch_Helper: \n",
    "\n",
    "    def __init__(self):\n",
    "        # Create a Boto3 client for the CloudWatch Logs service     \n",
    "        self.cloudwatch_logs_client = boto3.client('logs', region_name=\"us-west-2\")\n",
    "\n",
    "    def create_log_group(self, log_group_name):\n",
    "        try:\n",
    "            response = self.cloudwatch_logs_client.create_log_group(logGroupName=log_group_name)\n",
    "            print(f\"Log group '{log_group_name}' created successfully.\")\n",
    "        except ClientError as e:\n",
    "            if e.response['Error']['Code'] == 'ResourceAlreadyExistsException':\n",
    "                print(f\"Log group '{log_group_name}' already exists.\")\n",
    "            else:\n",
    "                print(f\"Failed to create log group '{log_group_name}'. Error: {e}\")\n",
    "\n",
    "    def print_recent_logs(self, log_group_name, minutes=5):\n",
    "        try:\n",
    "            # Calculate the time range\n",
    "            end_time = int(datetime.datetime.now().timestamp() * 1000)  # Current time in milliseconds\n",
    "            start_time = end_time - (minutes * 60 * 1000)  # 5 minutes ago in milliseconds\n",
    "\n",
    "            # Fetch log streams (assumes logs are stored in streams within the log group)\n",
    "            streams = self.cloudwatch_logs_client.describe_log_streams(\n",
    "                logGroupName=log_group_name,\n",
    "                orderBy='LastEventTime',\n",
    "                descending=True\n",
    "            )\n",
    "\n",
    "            for stream in streams.get('logStreams', []):\n",
    "                # Fetch log events from each stream\n",
    "                events = self.cloudwatch_logs_client.get_log_events(\n",
    "                    logGroupName=log_group_name,\n",
    "                    logStreamName=stream['logStreamName'],\n",
    "                    startTime=start_time,\n",
    "                    endTime=end_time\n",
    "                )\n",
    "\n",
    "                for event in events.get('events', []):\n",
    "                    try:\n",
    "                        # Try to load the string as JSON\n",
    "                        json_data = json.loads(event['message'])\n",
    "                        # Pretty print the JSON data\n",
    "                        print(json.dumps(json_data, indent=4))\n",
    "                    except json.JSONDecodeError:\n",
    "                        # If it's not valid JSON, print the original string\n",
    "                        print(event['message'])\n",
    "                    print(f'{\"-\"*25}\\n')\n",
    "\n",
    "        except ClientError as e:\n",
    "            print(f\"Error fetching logs: {e}\")\n",
    "\n",
    "\n",
    "cloudwatch = CloudWatch_Helper()"
   ]
  },
  {
   "cell_type": "code",
   "execution_count": 3,
   "id": "87a30e7e",
   "metadata": {
    "height": 30
   },
   "outputs": [],
   "source": [
    "log_group_name = '/my/amazon/bedrock/logs'"
   ]
  },
  {
   "cell_type": "code",
   "execution_count": 4,
   "id": "2461a51c",
   "metadata": {
    "height": 30
   },
   "outputs": [
    {
     "name": "stdout",
     "output_type": "stream",
     "text": [
      "Log group '/my/amazon/bedrock/logs' created successfully.\n"
     ]
    }
   ],
   "source": [
    "cloudwatch.create_log_group(log_group_name)"
   ]
  },
  {
   "cell_type": "code",
   "execution_count": 5,
   "id": "0afe5997",
   "metadata": {
    "height": 268
   },
   "outputs": [],
   "source": [
    "loggingConfig = {\n",
    "    'cloudWatchConfig': {\n",
    "        'logGroupName': log_group_name,\n",
    "        'roleArn': os.environ['LOGGINGROLEARN'],\n",
    "        'largeDataDeliveryS3Config': {\n",
    "            'bucketName': os.environ['LOGGINGBUCKETNAME'],\n",
    "            'keyPrefix': 'amazon_bedrock_large_data_delivery',\n",
    "        }\n",
    "    },\n",
    "    's3Config': {\n",
    "        'bucketName': os.environ['LOGGINGBUCKETNAME'],\n",
    "        'keyPrefix': 'amazon_bedrock_logs',\n",
    "    },\n",
    "    'textDataDeliveryEnabled': True,\n",
    "}"
   ]
  },
  {
   "cell_type": "code",
   "execution_count": 6,
   "id": "2ca33ffe",
   "metadata": {
    "height": 30
   },
   "outputs": [
    {
     "data": {
      "text/plain": [
       "{'ResponseMetadata': {'RequestId': '12ef6935-d818-41e4-bedd-40771a4f9c95',\n",
       "  'HTTPStatusCode': 200,\n",
       "  'HTTPHeaders': {'date': 'Tue, 15 Oct 2024 19:40:09 GMT',\n",
       "   'content-type': 'application/json',\n",
       "   'content-length': '2',\n",
       "   'connection': 'keep-alive',\n",
       "   'x-amzn-requestid': '12ef6935-d818-41e4-bedd-40771a4f9c95'},\n",
       "  'RetryAttempts': 0}}"
      ]
     },
     "execution_count": 6,
     "metadata": {},
     "output_type": "execute_result"
    }
   ],
   "source": [
    "bedrock.put_model_invocation_logging_configuration(loggingConfig=loggingConfig)"
   ]
  },
  {
   "cell_type": "code",
   "execution_count": 7,
   "id": "41fdb20d",
   "metadata": {
    "height": 30
   },
   "outputs": [
    {
     "data": {
      "text/plain": [
       "{'ResponseMetadata': {'RequestId': '3d70c37a-b823-4261-bb61-e6cc7bd591fa',\n",
       "  'HTTPStatusCode': 200,\n",
       "  'HTTPHeaders': {'date': 'Tue, 15 Oct 2024 19:40:11 GMT',\n",
       "   'content-type': 'application/json',\n",
       "   'content-length': '604',\n",
       "   'connection': 'keep-alive',\n",
       "   'x-amzn-requestid': '3d70c37a-b823-4261-bb61-e6cc7bd591fa'},\n",
       "  'RetryAttempts': 0},\n",
       " 'loggingConfig': {'cloudWatchConfig': {'logGroupName': '/my/amazon/bedrock/logs',\n",
       "   'roleArn': 'arn:aws:iam::242772082811:role/c99355a2566044l7970939t1w24277208281-LoggingIAMRole-O9stAXw6iXdt',\n",
       "   'largeDataDeliveryS3Config': {'bucketName': 'c99355a2566044l7970939t1w242772082-loggings3bucket-navjlps0fgkc',\n",
       "    'keyPrefix': 'amazon_bedrock_large_data_delivery'}},\n",
       "  's3Config': {'bucketName': 'c99355a2566044l7970939t1w242772082-loggings3bucket-navjlps0fgkc',\n",
       "   'keyPrefix': 'amazon_bedrock_logs'},\n",
       "  'textDataDeliveryEnabled': True,\n",
       "  'imageDataDeliveryEnabled': True,\n",
       "  'embeddingDataDeliveryEnabled': True}}"
      ]
     },
     "execution_count": 7,
     "metadata": {},
     "output_type": "execute_result"
    }
   ],
   "source": [
    "bedrock.get_model_invocation_logging_configuration()"
   ]
  },
  {
   "cell_type": "code",
   "execution_count": 8,
   "id": "95ebecb7",
   "metadata": {
    "height": 30
   },
   "outputs": [],
   "source": [
    "bedrock_runtime = boto3.client('bedrock-runtime', region_name=\"us-west-2\")"
   ]
  },
  {
   "cell_type": "code",
   "execution_count": 9,
   "id": "402c6311",
   "metadata": {
    "height": 421
   },
   "outputs": [
    {
     "name": "stdout",
     "output_type": "stream",
     "text": [
      "\n",
      "Foobar is a fictional planet that has been featured in various works of science fiction and fantasy literature. It is a planet that is inhabited by a wide range of creatures, including humans, aliens, and creatures that are not known to exist on Earth.\n",
      "\n",
      "One of the most notable features of Foobar is its geography. The planet is shaped like a giant sphere, with a diameter of over 1,000 miles. The surface of the planet is covered in a variety of landscapes, including deserts, forests, and oceans. The oceans of Foobar are known to be deep and dangerous, with many dangerous creatures living in them.\n",
      "\n",
      "The creatures of Foobar are also diverse and unique. Some of the most common creatures include humans, who are the dominant species on the planet. Humans on Foobar have a variety of cultures and beliefs, and they have developed advanced technology and science. Other creatures include aliens, who are beings that come from other planets or galaxies. Aliens on Foobar come in a wide range of shapes and sizes, and they have a variety of abilities and powers.\n",
      "\n",
      "One of the most interesting aspects of Foobar is its history. The planet has been inhabited for thousands of years, and it has seen many changes and events. One of the most significant events in Foobar's history was the arrival of the aliens. The aliens came to Foobar in search of new resources and to expand their empire. They quickly took control of the planet, and they enslaved the humans.\n",
      "\n",
      "The humans on Foobar have struggled for centuries to gain their freedom from the aliens. They have formed resistance groups and have fought back against the aliens' forces. However, the aliens have been able to maintain their control over the planet through their advanced technology and their superior numbers.\n",
      "\n",
      "Despite the challenges that the humans of Foobar face, they have also developed a rich and diverse culture. Foobar's culture is influenced by a variety of factors, including the native creatures, the aliens, and the humans. Foobar's music, art, and literature are unique and innovative, and they have been praised by critics around the world.\n",
      "\n",
      "In addition to its fictional aspects, Foobar has also been used as a metaphor for real-world issues. The planet's geography and its diverse creatures can be used to explore themes of power, oppression, and freedom. The aliens' arrival can be seen as a metaphor for the arrival of new technologies and the changes that they can bring to society.\n",
      "\n",
      "Foobar has been featured in a\n"
     ]
    }
   ],
   "source": [
    "prompt = \"Write an article about the fictional planet Foobar.\"\n",
    "\n",
    "kwargs = {\n",
    "    \"modelId\": \"amazon.titan-text-express-v1\",\n",
    "    \"contentType\": \"application/json\",\n",
    "    \"accept\": \"*/*\",\n",
    "    \"body\": json.dumps(\n",
    "        {\n",
    "            \"inputText\": prompt,\n",
    "            \"textGenerationConfig\": {\n",
    "                \"maxTokenCount\": 512,\n",
    "                \"temperature\": 0.7,\n",
    "                \"topP\": 0.9\n",
    "            }\n",
    "        }\n",
    "    )\n",
    "}\n",
    "\n",
    "response = bedrock_runtime.invoke_model(**kwargs)\n",
    "response_body = json.loads(response.get('body').read())\n",
    "\n",
    "generation = response_body['results'][0]['outputText']\n",
    "\n",
    "print(generation)"
   ]
  },
  {
   "cell_type": "code",
   "execution_count": 10,
   "id": "68a7bab7",
   "metadata": {
    "height": 30
   },
   "outputs": [
    {
     "name": "stdout",
     "output_type": "stream",
     "text": [
      "Permissions are correctly set for Amazon Bedrock logs.\n",
      "-------------------------\n",
      "\n",
      "{\n",
      "    \"schemaType\": \"ModelInvocationLog\",\n",
      "    \"schemaVersion\": \"1.0\",\n",
      "    \"timestamp\": \"2024-10-15T19:40:13Z\",\n",
      "    \"accountId\": \"242772082811\",\n",
      "    \"identity\": {\n",
      "        \"arn\": \"arn:aws:sts::242772082811:assumed-role/voclabs/user3590050=eyJhbGciOiJIUzI1NiIsInR5cCI6IkpXVCJ9.eyJpc3MiOiJhcHA\"\n",
      "    },\n",
      "    \"region\": \"us-west-2\",\n",
      "    \"requestId\": \"6953bf85-3a6b-4491-a4ca-e771a74f67c7\",\n",
      "    \"operation\": \"InvokeModel\",\n",
      "    \"modelId\": \"amazon.titan-text-express-v1\",\n",
      "    \"input\": {\n",
      "        \"inputContentType\": \"application/json\",\n",
      "        \"inputBodyJson\": {\n",
      "            \"inputText\": \"Write an article about the fictional planet Foobar.\",\n",
      "            \"textGenerationConfig\": {\n",
      "                \"maxTokenCount\": 512,\n",
      "                \"temperature\": 0.7,\n",
      "                \"topP\": 0.9\n",
      "            }\n",
      "        },\n",
      "        \"inputTokenCount\": 10\n",
      "    },\n",
      "    \"output\": {\n",
      "        \"outputContentType\": \"application/json\",\n",
      "        \"outputBodyJson\": {\n",
      "            \"inputTextTokenCount\": 10,\n",
      "            \"results\": [\n",
      "                {\n",
      "                    \"tokenCount\": 512,\n",
      "                    \"outputText\": \"\\nFoobar is a fictional planet that has been featured in various works of science fiction and fantasy literature. It is a planet that is inhabited by a wide range of creatures, including humans, aliens, and creatures that are not known to exist on Earth.\\n\\nOne of the most notable features of Foobar is its geography. The planet is shaped like a giant sphere, with a diameter of over 1,000 miles. The surface of the planet is covered in a variety of landscapes, including deserts, forests, and oceans. The oceans of Foobar are known to be deep and dangerous, with many dangerous creatures living in them.\\n\\nThe creatures of Foobar are also diverse and unique. Some of the most common creatures include humans, who are the dominant species on the planet. Humans on Foobar have a variety of cultures and beliefs, and they have developed advanced technology and science. Other creatures include aliens, who are beings that come from other planets or galaxies. Aliens on Foobar come in a wide range of shapes and sizes, and they have a variety of abilities and powers.\\n\\nOne of the most interesting aspects of Foobar is its history. The planet has been inhabited for thousands of years, and it has seen many changes and events. One of the most significant events in Foobar's history was the arrival of the aliens. The aliens came to Foobar in search of new resources and to expand their empire. They quickly took control of the planet, and they enslaved the humans.\\n\\nThe humans on Foobar have struggled for centuries to gain their freedom from the aliens. They have formed resistance groups and have fought back against the aliens' forces. However, the aliens have been able to maintain their control over the planet through their advanced technology and their superior numbers.\\n\\nDespite the challenges that the humans of Foobar face, they have also developed a rich and diverse culture. Foobar's culture is influenced by a variety of factors, including the native creatures, the aliens, and the humans. Foobar's music, art, and literature are unique and innovative, and they have been praised by critics around the world.\\n\\nIn addition to its fictional aspects, Foobar has also been used as a metaphor for real-world issues. The planet's geography and its diverse creatures can be used to explore themes of power, oppression, and freedom. The aliens' arrival can be seen as a metaphor for the arrival of new technologies and the changes that they can bring to society.\\n\\nFoobar has been featured in a\",\n",
      "                    \"completionReason\": \"LENGTH\"\n",
      "                }\n",
      "            ]\n",
      "        },\n",
      "        \"outputTokenCount\": 512\n",
      "    }\n",
      "}\n",
      "-------------------------\n",
      "\n"
     ]
    }
   ],
   "source": [
    "cloudwatch.print_recent_logs(log_group_name)"
   ]
  },
  {
   "cell_type": "markdown",
   "id": "1118acfb",
   "metadata": {},
   "source": [
    "To review the logs within the AWS console, please use the following link to reference the steps outlined in the video:"
   ]
  },
  {
   "cell_type": "code",
   "execution_count": 11,
   "id": "2cf443d2",
   "metadata": {
    "height": 47
   },
   "outputs": [],
   "source": [
    "from IPython.display import HTML\n",
    "aws_url = os.environ['AWS_CONSOLE_URL']"
   ]
  },
  {
   "cell_type": "code",
   "execution_count": 12,
   "id": "0b7c904c",
   "metadata": {
    "height": 47
   },
   "outputs": [
    {
     "data": {
      "text/html": [
       "<a href=\"https://signin.aws.amazon.com/federation?Action=login&SigninToken=uCDeHyFeQ2A_DrRdP7HDN4j7JtG4io9LPkSgh51k965FC4jvUhQkh8iVC_DUOVMBshcRh3i4VaTFqO2cM9jyHJTjKbnqHbgivVqWDs-1-zVoCO3mj6WRp1zRUEkxXAcIobOwgtpaOeL78MVeNprq8hPWji4w-uuZPL0cmF8fnWoJKh4qubEFg2nuh7cnShQYyLN1huHsNGAwbfptVlMXaZLvMLasvDeGzzYv6A35Nky2H8jLWjluWvcKs6nNBBGUiBK5RzBf0j02c7YcG0hiSmu7Y_rWcJ1hGTdh6Pm8pzcrbhwBfc89cnvskoSYWDIXLG1IVCLhxLyD-gwb8J-bW-GNj8lR4u_lzPWBykBKHqaVNafq6m6FIiHQUZLypi-201QF1SekEzwatExgqKg1DFDpw6Z2FsSBPCjRNuKwLJpXI3xEIHs4ls1bPy1_zxWK0h8lD6-B3BO1jkbh_nGSBD-4zVDagUqI4BNRdCVCu-swoibfFSaudeK9ux8-X3Oztl6iI6bCdLwaZHzu1EFzPyUSK7dGYRF04sZK-GoLfN-gF8pZBeYZzwz2LCsjWUIe2iQCbB_Y_yUiFnvfrmlyoeHYLqSw6jYSwQMIgKDp6SmaZ4IilaxzocQUDCwd53u9b4CdQhOLv2cktICgehPFyfnjG-1yYAi5_qtt0UXKebd024q5QOiIi03T13IS5BSk-46_SM5WNa5q2bZiko0lUrS90cvXm9KCad98dsvzDUJUwhAseOlSypIkBZTyE7D8C2x9H6vYePUqOOoDGXcbUIZqUyEgy5iB1z4bVdcEdMg71D6o1PvrBdGPZefq6D3DIk0iqp22XXxazmL-PW7eZoqitwDVtS1m5PGbUMgWfFHOjHRroEPS9CppTJYoMgMdvAhITUvFcYGR8Y6FkDCXZhgkub3M3eEMiEZrXo_RXWXO0PIs6Z_eu8FMLc4MMSVcOVO1gFj6myMfLtqNPGquCtrMowz256S5uR18dkOVi0McpI-iUhHFSOUWNyosFuruwmQgi83NGVC0j6l-iKPyr5wj_F8C7ycYEgRllN4K8TvCuZUM7i50l1m2_1bcYNNJJxO9BfrhSAyrZmRDPAL75bohWQfMQQ3xaoYOjQkqgcLDuNwSanfYm_7hLSeua0-s1NrGXMa-KZ3ZGsFgfehXh6taueYmFP5xNkyUqf0xIWRWtJa8p8Woz8Gz0akdXXV1DmYZuf2dwWrxHpZsFYC596n8jKHAes4Fjm6sMBzGyoyDg5o-IpxaiPTa0d3Ou8EPD21oGFrCOcAm3huDcJ5qwq_NgxtIjcqeHO_Hcp7yUeGopb2sWD-zHSgLmOWJx0utIIytd71d2Y9dByUAQjPFYk6F4inv-i9COGWbwkLZmNiOk60xGqUk-bIzggQHFfIB_N_jyQFamq6G7upe-yTRdjupPWlnfg9iImTlTM2iTaejeDVmNjPasipUXGtJ4Wnk4EUeBtkzpaGY3mXf75rsMkJraSQXNAZHxqiXwRy54b03SMVK_rivlrcTOCiMAoOncPfqPF1rFtU0Nx__nT71A64ly5v3oQ&Issuer=https%3A%2F%2Fapi.vocareum.com&Destination=https%3A%2F%2Fconsole.aws.amazon.com%2Fconsole%2Fhome%3Fregion%3Dus-west-2\" target=\"_blank\">GO TO AWS CONSOLE</a>"
      ],
      "text/plain": [
       "<IPython.core.display.HTML object>"
      ]
     },
     "execution_count": 12,
     "metadata": {},
     "output_type": "execute_result"
    }
   ],
   "source": [
    "HTML(f'<a href=\"{aws_url}\" target=\"_blank\">GO TO AWS CONSOLE</a>')\n"
   ]
  },
  {
   "cell_type": "code",
   "execution_count": null,
   "id": "493b3599",
   "metadata": {
    "height": 30
   },
   "outputs": [],
   "source": []
  },
  {
   "cell_type": "code",
   "execution_count": null,
   "id": "4d05c6d3",
   "metadata": {
    "height": 30
   },
   "outputs": [],
   "source": []
  },
  {
   "cell_type": "code",
   "execution_count": null,
   "id": "3c278c0d",
   "metadata": {
    "height": 30
   },
   "outputs": [],
   "source": []
  }
 ],
 "metadata": {
  "kernelspec": {
   "display_name": "Python 3 (ipykernel)",
   "language": "python",
   "name": "python3"
  },
  "language_info": {
   "codemirror_mode": {
    "name": "ipython",
    "version": 3
   },
   "file_extension": ".py",
   "mimetype": "text/x-python",
   "name": "python",
   "nbconvert_exporter": "python",
   "pygments_lexer": "ipython3",
   "version": "3.11.9"
  }
 },
 "nbformat": 4,
 "nbformat_minor": 5
}
